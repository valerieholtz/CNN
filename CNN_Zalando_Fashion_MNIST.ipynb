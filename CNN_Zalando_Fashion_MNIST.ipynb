{
  "nbformat": 4,
  "nbformat_minor": 0,
  "metadata": {
    "colab": {
      "name": "CNN_Zaldando_Fashion_mnist.ipynb",
      "provenance": [],
      "collapsed_sections": []
    },
    "kernelspec": {
      "name": "python3",
      "display_name": "Python 3"
    },
    "language_info": {
      "name": "python"
    },
    "accelerator": "GPU"
  },
  "cells": [
    {
      "cell_type": "markdown",
      "source": [
        "# Classifying Fashion with a CNN"
      ],
      "metadata": {
        "id": "frusRj4YLsYi"
      }
    },
    {
      "cell_type": "markdown",
      "source": [
        "Fashion-MNIST is a dataset of Zalando's article images—consisting of a training set of 60,000 examples and a test set of 10,000 examples. Each example is a 28x28 grayscale image, associated with a label from 10 classes.\n",
        "\n",
        "https://github.com/zalandoresearch/fashion-mnist"
      ],
      "metadata": {
        "id": "owAv6-DBMLCO"
      }
    },
    {
      "cell_type": "markdown",
      "source": [
        "Objective:\n",
        "\n",
        "Train an Convolutional Neural Network on this dataset"
      ],
      "metadata": {
        "id": "TFpDmKKnL8vh"
      }
    },
    {
      "cell_type": "code",
      "source": [
        "import tensorflow_datasets as tfds\n",
        "import matplotlib.pyplot as plt \n",
        "from tensorflow.keras import models, layers"
      ],
      "metadata": {
        "id": "-0TU6inRMtua"
      },
      "execution_count": 6,
      "outputs": []
    },
    {
      "cell_type": "markdown",
      "source": [
        "## Load data\n"
      ],
      "metadata": {
        "id": "TaD_Ge8dNITG"
      }
    },
    {
      "cell_type": "code",
      "source": [
        "#load data\n",
        "(dataset_train_original, dataset_validate_original), info = tfds.load(\n",
        "    'fashion_mnist',\n",
        "    split=['train[:80%]', 'train[80%:]'],\n",
        "    # dataset has 2-tuple structure (input, label / x, y)\n",
        "    as_supervised=True,\n",
        "    with_info=True\n",
        ")"
      ],
      "metadata": {
        "id": "BgckogxnNOUu"
      },
      "execution_count": 7,
      "outputs": []
    },
    {
      "cell_type": "code",
      "source": [
        "info"
      ],
      "metadata": {
        "colab": {
          "base_uri": "https://localhost:8080/"
        },
        "id": "y7gyTHI9NObA",
        "outputId": "c5599aad-7ce9-4b51-deca-25d300f0f226"
      },
      "execution_count": 8,
      "outputs": [
        {
          "output_type": "execute_result",
          "data": {
            "text/plain": [
              "tfds.core.DatasetInfo(\n",
              "    name='fashion_mnist',\n",
              "    version=3.0.1,\n",
              "    description='Fashion-MNIST is a dataset of Zalando's article images consisting of a training set of 60,000 examples and a test set of 10,000 examples. Each example is a 28x28 grayscale image, associated with a label from 10 classes.',\n",
              "    homepage='https://github.com/zalandoresearch/fashion-mnist',\n",
              "    features=FeaturesDict({\n",
              "        'image': Image(shape=(28, 28, 1), dtype=tf.uint8),\n",
              "        'label': ClassLabel(shape=(), dtype=tf.int64, num_classes=10),\n",
              "    }),\n",
              "    total_num_examples=70000,\n",
              "    splits={\n",
              "        'test': 10000,\n",
              "        'train': 60000,\n",
              "    },\n",
              "    supervised_keys=('image', 'label'),\n",
              "    citation=\"\"\"@article{DBLP:journals/corr/abs-1708-07747,\n",
              "      author    = {Han Xiao and\n",
              "                   Kashif Rasul and\n",
              "                   Roland Vollgraf},\n",
              "      title     = {Fashion-MNIST: a Novel Image Dataset for Benchmarking Machine Learning\n",
              "                   Algorithms},\n",
              "      journal   = {CoRR},\n",
              "      volume    = {abs/1708.07747},\n",
              "      year      = {2017},\n",
              "      url       = {http://arxiv.org/abs/1708.07747},\n",
              "      archivePrefix = {arXiv},\n",
              "      eprint    = {1708.07747},\n",
              "      timestamp = {Mon, 13 Aug 2018 16:47:27 +0200},\n",
              "      biburl    = {https://dblp.org/rec/bib/journals/corr/abs-1708-07747},\n",
              "      bibsource = {dblp computer science bibliography, https://dblp.org}\n",
              "    }\"\"\",\n",
              "    redistribution_info=,\n",
              ")"
            ]
          },
          "metadata": {},
          "execution_count": 8
        }
      ]
    },
    {
      "cell_type": "markdown",
      "source": [
        "## Viewing a sample of the dataset"
      ],
      "metadata": {
        "id": "15ptLE9qNOl_"
      }
    },
    {
      "cell_type": "code",
      "source": [
        "for x, y in dataset_train_original.shuffle(20000).take(10):\n",
        "  #2d for grayscale\n",
        "  plt.imshow(x.numpy().reshape((28,28)),cmap='gray')\n",
        "  plt.title(f\"Label is {y}, shape is {x.shape}\")\n",
        "  plt.axis(\"off\")\n",
        "  plt.show()\n",
        "  plt.close()"
      ],
      "metadata": {
        "colab": {
          "base_uri": "https://localhost:8080/",
          "height": 1000
        },
        "id": "fFdWDFviToqA",
        "outputId": "1138bc2d-6d89-4cf4-a5cf-f112806f19ac"
      },
      "execution_count": 9,
      "outputs": [
        {
          "output_type": "display_data",
          "data": {
            "image/png": "[encoded data removed]",
            "text/plain": [
              "<Figure size 432x288 with 1 Axes>"
            ]
          },
          "metadata": {
            "needs_background": "light"
          }
        },
        {
          "output_type": "display_data",
          "data": {
            "image/png": "[encoded data removed]",
            "text/plain": [
              "<Figure size 432x288 with 1 Axes>"
            ]
          },
          "metadata": {
            "needs_background": "light"
          }
        },
        {
          "output_type": "display_data",
          "data": {
            "image/png": "[encoded data removed]",
            "text/plain": [
              "<Figure size 432x288 with 1 Axes>"
            ]
          },
          "metadata": {
            "needs_background": "light"
          }
        },
        {
          "output_type": "display_data",
          "data": {
            "image/png": "[encoded data removed]",
            "text/plain": [
              "<Figure size 432x288 with 1 Axes>"
            ]
          },
          "metadata": {
            "needs_background": "light"
          }
        },
        {
          "output_type": "display_data",
          "data": {
            "image/png": "[encoded data removed]",
            "text/plain": [
              "<Figure size 432x288 with 1 Axes>"
            ]
          },
          "metadata": {
            "needs_background": "light"
          }
        },
        {
          "output_type": "display_data",
          "data": {
            "image/png": "[encoded data removed]",
            "text/plain": [
              "<Figure size 432x288 with 1 Axes>"
            ]
          },
          "metadata": {
            "needs_background": "light"
          }
        },
        {
          "output_type": "display_data",
          "data": {
            "image/png": "[encoded data removed]",
            "text/plain": [
              "<Figure size 432x288 with 1 Axes>"
            ]
          },
          "metadata": {
            "needs_background": "light"
          }
        },
        {
          "output_type": "display_data",
          "data": {
            "image/png": "[encoded data removed]",
            "text/plain": [
              "<Figure size 432x288 with 1 Axes>"
            ]
          },
          "metadata": {
            "needs_background": "light"
          }
        },
        {
          "output_type": "display_data",
          "data": {
            "image/png": "[encoded data removed]",
            "text/plain": [
              "<Figure size 432x288 with 1 Axes>"
            ]
          },
          "metadata": {
            "needs_background": "light"
          }
        },
        {
          "output_type": "display_data",
          "data": {
            "image/png": "[encoded data removed]",
            "text/plain": [
              "<Figure size 432x288 with 1 Axes>"
            ]
          },
          "metadata": {
            "needs_background": "light"
          }
        }
      ]
    },
    {
      "cell_type": "markdown",
      "source": [
        "## Pre-processing data"
      ],
      "metadata": {
        "id": "tj0JP7FQQNYN"
      }
    },
    {
      "cell_type": "code",
      "source": [
        "#Load keras model and cache it in a variable without having to reload\n",
        "dataset_train = dataset_train_original.cache().shuffle(48000).batch(128)\n",
        "dataset_validate = dataset_validate_original.cache().batch(128)"
      ],
      "metadata": {
        "id": "AKXzH-ZeQTTg"
      },
      "execution_count": 10,
      "outputs": []
    },
    {
      "cell_type": "code",
      "source": [
        "for x, y in dataset_train.take(1):\n",
        "  print(\"x\", x.shape)\n",
        "  print(\"y\", y.shape)\n",
        "\n",
        "# why is x 4-dimensional?: batch_size and x"
      ],
      "metadata": {
        "colab": {
          "base_uri": "https://localhost:8080/"
        },
        "id": "BqtGnYsVQTVp",
        "outputId": "e512c527-1378-4c10-c9cd-07e8d1d234f1"
      },
      "execution_count": 11,
      "outputs": [
        {
          "output_type": "stream",
          "name": "stdout",
          "text": [
            "x (128, 28, 28, 1)\n",
            "y (128,)\n"
          ]
        }
      ]
    },
    {
      "cell_type": "code",
      "source": [
        "for x, y in dataset_train.take(1):\n",
        "  print('x', x.shape)\n",
        "  print('y', y.shape)"
      ],
      "metadata": {
        "colab": {
          "base_uri": "https://localhost:8080/"
        },
        "id": "6tvZFad8QTYH",
        "outputId": "70661a85-4a08-43c3-9025-67fe8ad600d4"
      },
      "execution_count": 12,
      "outputs": [
        {
          "output_type": "stream",
          "name": "stdout",
          "text": [
            "x (128, 28, 28, 1)\n",
            "y (128,)\n"
          ]
        }
      ]
    },
    {
      "cell_type": "markdown",
      "source": [
        "## Build and train a model"
      ],
      "metadata": {
        "id": "dryy4vSsNWxp"
      }
    },
    {
      "cell_type": "code",
      "source": [
        "from tensorflow.keras.layers import Dropout\n",
        "\n",
        "model = models.Sequential()\n",
        "\n",
        "#input layer\n",
        "model.add(layers.Conv2D(64, kernel_size=(3,3), padding='same', activation='relu', input_shape=(28,28,1)))\n",
        "\n",
        "model.add(layers.MaxPool2D(pool_size=(2,2)))\n",
        "\n",
        "model.add(layers.Conv2D(64, kernel_size=(3,3), activation=\"relu\"))\n",
        "model.add(layers.MaxPool2D(pool_size=(2,2)))\n",
        "model.add(Dropout(0.5))\n",
        "model.add(layers.Conv2D(128, kernel_size=(3,3), activation=\"relu\"))\n",
        "model.add(layers.MaxPool2D(pool_size=(2,2)))\n",
        "model.add(Dropout(0.5))\n",
        "\n",
        "#flatten and final dense layer\n",
        "model.add(layers.Flatten())\n",
        "model.add(layers.Dense(100, activation=\"relu\"))\n",
        "model.add(layers.Dense(10,activation='softmax'))\n"
      ],
      "metadata": {
        "id": "APZzrUeINYKw"
      },
      "execution_count": 21,
      "outputs": []
    },
    {
      "cell_type": "code",
      "source": [
        "from tensorflow.keras.callbacks import EarlyStopping\n",
        "early_stop = EarlyStopping(monitor='val_loss',mode='min',verbose=1,patience=25)\n",
        "#if metric is loss, needs to be minimized, accuracy needs to be maximized"
      ],
      "metadata": {
        "id": "fYQL_9hIhau_"
      },
      "execution_count": 22,
      "outputs": []
    },
    {
      "cell_type": "code",
      "source": [
        "model.summary()"
      ],
      "metadata": {
        "colab": {
          "base_uri": "https://localhost:8080/"
        },
        "id": "6vP1lQAHNYR0",
        "outputId": "c343acee-dee8-48ae-d62e-9f4684ca600d"
      },
      "execution_count": 23,
      "outputs": [
        {
          "output_type": "stream",
          "name": "stdout",
          "text": [
            "Model: \"sequential_5\"\n",
            "_________________________________________________________________\n",
            " Layer (type)                Output Shape              Param #   \n",
            "=================================================================\n",
            " conv2d_18 (Conv2D)          (None, 28, 28, 64)        640       \n",
            "                                                                 \n",
            " max_pooling2d_17 (MaxPoolin  (None, 14, 14, 64)       0         \n",
            " g2D)                                                            \n",
            "                                                                 \n",
            " conv2d_19 (Conv2D)          (None, 12, 12, 64)        36928     \n",
            "                                                                 \n",
            " max_pooling2d_18 (MaxPoolin  (None, 6, 6, 64)         0         \n",
            " g2D)                                                            \n",
            "                                                                 \n",
            " dropout_5 (Dropout)         (None, 6, 6, 64)          0         \n",
            "                                                                 \n",
            " conv2d_20 (Conv2D)          (None, 4, 4, 128)         73856     \n",
            "                                                                 \n",
            " max_pooling2d_19 (MaxPoolin  (None, 2, 2, 128)        0         \n",
            " g2D)                                                            \n",
            "                                                                 \n",
            " dropout_6 (Dropout)         (None, 2, 2, 128)         0         \n",
            "                                                                 \n",
            " flatten_2 (Flatten)         (None, 512)               0         \n",
            "                                                                 \n",
            " dense_4 (Dense)             (None, 100)               51300     \n",
            "                                                                 \n",
            " dense_5 (Dense)             (None, 10)                1010      \n",
            "                                                                 \n",
            "=================================================================\n",
            "Total params: 163,734\n",
            "Trainable params: 163,734\n",
            "Non-trainable params: 0\n",
            "_________________________________________________________________\n"
          ]
        }
      ]
    },
    {
      "cell_type": "code",
      "source": [
        "model.compile(\n",
        "    optimizer='adam',\n",
        "    loss=\"sparse_categorical_crossentropy\",\n",
        "    metrics=[\"accuracy\"]\n",
        ")"
      ],
      "metadata": {
        "id": "nsVGcnxqNZ7O"
      },
      "execution_count": 24,
      "outputs": []
    },
    {
      "cell_type": "code",
      "source": [
        "model.fit(\n",
        "    dataset_train,\n",
        "    epochs=100,\n",
        "    validation_data=dataset_validate, callbacks=[early_stop])"
      ],
      "metadata": {
        "colab": {
          "base_uri": "https://localhost:8080/"
        },
        "id": "d5xqIruVNaDt",
        "outputId": "2811cced-b273-4359-84ef-c9fe65df22e2"
      },
      "execution_count": 25,
      "outputs": [
        {
          "output_type": "stream",
          "name": "stdout",
          "text": [
            "Epoch 1/100\n",
            "375/375 [==============================] - 10s 23ms/step - loss: 1.5501 - accuracy: 0.6124 - val_loss: 0.5510 - val_accuracy: 0.8055\n",
            "Epoch 2/100\n",
            "375/375 [==============================] - 6s 16ms/step - loss: 0.6520 - accuracy: 0.7600 - val_loss: 0.4818 - val_accuracy: 0.8331\n",
            "Epoch 3/100\n",
            "375/375 [==============================] - 6s 15ms/step - loss: 0.5756 - accuracy: 0.7875 - val_loss: 0.4315 - val_accuracy: 0.8453\n",
            "Epoch 4/100\n",
            "375/375 [==============================] - 6s 15ms/step - loss: 0.5314 - accuracy: 0.8057 - val_loss: 0.4133 - val_accuracy: 0.8549\n",
            "Epoch 5/100\n",
            "375/375 [==============================] - 6s 15ms/step - loss: 0.4937 - accuracy: 0.8174 - val_loss: 0.3909 - val_accuracy: 0.8530\n",
            "Epoch 6/100\n",
            "375/375 [==============================] - 6s 15ms/step - loss: 0.4709 - accuracy: 0.8261 - val_loss: 0.3758 - val_accuracy: 0.8641\n",
            "Epoch 7/100\n",
            "375/375 [==============================] - 6s 15ms/step - loss: 0.4487 - accuracy: 0.8321 - val_loss: 0.3581 - val_accuracy: 0.8720\n",
            "Epoch 8/100\n",
            "375/375 [==============================] - 6s 15ms/step - loss: 0.4364 - accuracy: 0.8366 - val_loss: 0.3428 - val_accuracy: 0.8776\n",
            "Epoch 9/100\n",
            "375/375 [==============================] - 6s 15ms/step - loss: 0.4211 - accuracy: 0.8417 - val_loss: 0.3447 - val_accuracy: 0.8781\n",
            "Epoch 10/100\n",
            "375/375 [==============================] - 6s 15ms/step - loss: 0.4085 - accuracy: 0.8465 - val_loss: 0.3395 - val_accuracy: 0.8799\n",
            "Epoch 11/100\n",
            "375/375 [==============================] - 6s 15ms/step - loss: 0.4004 - accuracy: 0.8502 - val_loss: 0.3276 - val_accuracy: 0.8790\n",
            "Epoch 12/100\n",
            "375/375 [==============================] - 6s 16ms/step - loss: 0.3848 - accuracy: 0.8568 - val_loss: 0.3222 - val_accuracy: 0.8817\n",
            "Epoch 13/100\n",
            "375/375 [==============================] - 7s 17ms/step - loss: 0.3813 - accuracy: 0.8581 - val_loss: 0.3110 - val_accuracy: 0.8891\n",
            "Epoch 14/100\n",
            "375/375 [==============================] - 6s 15ms/step - loss: 0.3727 - accuracy: 0.8610 - val_loss: 0.2983 - val_accuracy: 0.8909\n",
            "Epoch 15/100\n",
            "375/375 [==============================] - 6s 15ms/step - loss: 0.3588 - accuracy: 0.8664 - val_loss: 0.2986 - val_accuracy: 0.8920\n",
            "Epoch 16/100\n",
            "375/375 [==============================] - 7s 18ms/step - loss: 0.3553 - accuracy: 0.8677 - val_loss: 0.2927 - val_accuracy: 0.8937\n",
            "Epoch 17/100\n",
            "375/375 [==============================] - 6s 15ms/step - loss: 0.3537 - accuracy: 0.8684 - val_loss: 0.2911 - val_accuracy: 0.8920\n",
            "Epoch 18/100\n",
            "375/375 [==============================] - 6s 15ms/step - loss: 0.3476 - accuracy: 0.8694 - val_loss: 0.2816 - val_accuracy: 0.8968\n",
            "Epoch 19/100\n",
            "375/375 [==============================] - 6s 15ms/step - loss: 0.3354 - accuracy: 0.8746 - val_loss: 0.2749 - val_accuracy: 0.8983\n",
            "Epoch 20/100\n",
            "375/375 [==============================] - 6s 15ms/step - loss: 0.3314 - accuracy: 0.8750 - val_loss: 0.2752 - val_accuracy: 0.8998\n",
            "Epoch 21/100\n",
            "375/375 [==============================] - 6s 15ms/step - loss: 0.3287 - accuracy: 0.8764 - val_loss: 0.2693 - val_accuracy: 0.9047\n",
            "Epoch 22/100\n",
            "375/375 [==============================] - 6s 15ms/step - loss: 0.3277 - accuracy: 0.8771 - val_loss: 0.2647 - val_accuracy: 0.9042\n",
            "Epoch 23/100\n",
            "375/375 [==============================] - 6s 15ms/step - loss: 0.3216 - accuracy: 0.8794 - val_loss: 0.2710 - val_accuracy: 0.8985\n",
            "Epoch 24/100\n",
            "375/375 [==============================] - 6s 15ms/step - loss: 0.3177 - accuracy: 0.8808 - val_loss: 0.2666 - val_accuracy: 0.9025\n",
            "Epoch 25/100\n",
            "375/375 [==============================] - 6s 15ms/step - loss: 0.3101 - accuracy: 0.8827 - val_loss: 0.2619 - val_accuracy: 0.9036\n",
            "Epoch 26/100\n",
            "375/375 [==============================] - 6s 15ms/step - loss: 0.3084 - accuracy: 0.8856 - val_loss: 0.2569 - val_accuracy: 0.9028\n",
            "Epoch 27/100\n",
            "375/375 [==============================] - 6s 15ms/step - loss: 0.3037 - accuracy: 0.8865 - val_loss: 0.2573 - val_accuracy: 0.9058\n",
            "Epoch 28/100\n",
            "375/375 [==============================] - 6s 15ms/step - loss: 0.3082 - accuracy: 0.8841 - val_loss: 0.2640 - val_accuracy: 0.9035\n",
            "Epoch 29/100\n",
            "375/375 [==============================] - 6s 15ms/step - loss: 0.3010 - accuracy: 0.8882 - val_loss: 0.2681 - val_accuracy: 0.9033\n",
            "Epoch 30/100\n",
            "375/375 [==============================] - 6s 15ms/step - loss: 0.2975 - accuracy: 0.8881 - val_loss: 0.2526 - val_accuracy: 0.9126\n",
            "Epoch 31/100\n",
            "375/375 [==============================] - 6s 15ms/step - loss: 0.2941 - accuracy: 0.8892 - val_loss: 0.2446 - val_accuracy: 0.9107\n",
            "Epoch 32/100\n",
            "375/375 [==============================] - 6s 15ms/step - loss: 0.2952 - accuracy: 0.8899 - val_loss: 0.2533 - val_accuracy: 0.9071\n",
            "Epoch 33/100\n",
            "375/375 [==============================] - 6s 15ms/step - loss: 0.2905 - accuracy: 0.8911 - val_loss: 0.2524 - val_accuracy: 0.9067\n",
            "Epoch 34/100\n",
            "375/375 [==============================] - 6s 15ms/step - loss: 0.2850 - accuracy: 0.8933 - val_loss: 0.2440 - val_accuracy: 0.9130\n",
            "Epoch 35/100\n",
            "375/375 [==============================] - 6s 15ms/step - loss: 0.2845 - accuracy: 0.8939 - val_loss: 0.2470 - val_accuracy: 0.9110\n",
            "Epoch 36/100\n",
            "375/375 [==============================] - 6s 15ms/step - loss: 0.2820 - accuracy: 0.8948 - val_loss: 0.2402 - val_accuracy: 0.9136\n",
            "Epoch 37/100\n",
            "375/375 [==============================] - 5s 14ms/step - loss: 0.2851 - accuracy: 0.8943 - val_loss: 0.2401 - val_accuracy: 0.9158\n",
            "Epoch 38/100\n",
            "375/375 [==============================] - 5s 14ms/step - loss: 0.2799 - accuracy: 0.8944 - val_loss: 0.2380 - val_accuracy: 0.9158\n",
            "Epoch 39/100\n",
            "375/375 [==============================] - 5s 14ms/step - loss: 0.2762 - accuracy: 0.8975 - val_loss: 0.2355 - val_accuracy: 0.9143\n",
            "Epoch 40/100\n",
            "375/375 [==============================] - 5s 14ms/step - loss: 0.2803 - accuracy: 0.8968 - val_loss: 0.2354 - val_accuracy: 0.9140\n",
            "Epoch 41/100\n",
            "375/375 [==============================] - 5s 14ms/step - loss: 0.2756 - accuracy: 0.8988 - val_loss: 0.2397 - val_accuracy: 0.9097\n",
            "Epoch 42/100\n",
            "375/375 [==============================] - 5s 14ms/step - loss: 0.2740 - accuracy: 0.8975 - val_loss: 0.2472 - val_accuracy: 0.9090\n",
            "Epoch 43/100\n",
            "375/375 [==============================] - 5s 14ms/step - loss: 0.2744 - accuracy: 0.8972 - val_loss: 0.2361 - val_accuracy: 0.9144\n",
            "Epoch 44/100\n",
            "375/375 [==============================] - 5s 14ms/step - loss: 0.2704 - accuracy: 0.8987 - val_loss: 0.2452 - val_accuracy: 0.9099\n",
            "Epoch 45/100\n",
            "375/375 [==============================] - 5s 15ms/step - loss: 0.2720 - accuracy: 0.8985 - val_loss: 0.2359 - val_accuracy: 0.9147\n",
            "Epoch 46/100\n",
            "375/375 [==============================] - 5s 15ms/step - loss: 0.2681 - accuracy: 0.9005 - val_loss: 0.2400 - val_accuracy: 0.9112\n",
            "Epoch 47/100\n",
            "375/375 [==============================] - 5s 14ms/step - loss: 0.2649 - accuracy: 0.9006 - val_loss: 0.2340 - val_accuracy: 0.9116\n",
            "Epoch 48/100\n",
            "375/375 [==============================] - 5s 14ms/step - loss: 0.2654 - accuracy: 0.9010 - val_loss: 0.2263 - val_accuracy: 0.9143\n",
            "Epoch 49/100\n",
            "375/375 [==============================] - 5s 14ms/step - loss: 0.2645 - accuracy: 0.9008 - val_loss: 0.2400 - val_accuracy: 0.9097\n",
            "Epoch 50/100\n",
            "375/375 [==============================] - 5s 14ms/step - loss: 0.2680 - accuracy: 0.9003 - val_loss: 0.2362 - val_accuracy: 0.9112\n",
            "Epoch 51/100\n",
            "375/375 [==============================] - 5s 14ms/step - loss: 0.2653 - accuracy: 0.9019 - val_loss: 0.2312 - val_accuracy: 0.9154\n",
            "Epoch 52/100\n",
            "375/375 [==============================] - 5s 14ms/step - loss: 0.2649 - accuracy: 0.9021 - val_loss: 0.2346 - val_accuracy: 0.9133\n",
            "Epoch 53/100\n",
            "375/375 [==============================] - 5s 14ms/step - loss: 0.2546 - accuracy: 0.9055 - val_loss: 0.2249 - val_accuracy: 0.9168\n",
            "Epoch 54/100\n",
            "375/375 [==============================] - 6s 15ms/step - loss: 0.2589 - accuracy: 0.9040 - val_loss: 0.2360 - val_accuracy: 0.9121\n",
            "Epoch 55/100\n",
            "375/375 [==============================] - 5s 14ms/step - loss: 0.2538 - accuracy: 0.9046 - val_loss: 0.2269 - val_accuracy: 0.9172\n",
            "Epoch 56/100\n",
            "375/375 [==============================] - 6s 15ms/step - loss: 0.2576 - accuracy: 0.9055 - val_loss: 0.2243 - val_accuracy: 0.9186\n",
            "Epoch 57/100\n",
            "375/375 [==============================] - 6s 15ms/step - loss: 0.2590 - accuracy: 0.9042 - val_loss: 0.2382 - val_accuracy: 0.9137\n",
            "Epoch 58/100\n",
            "375/375 [==============================] - 6s 15ms/step - loss: 0.2585 - accuracy: 0.9032 - val_loss: 0.2328 - val_accuracy: 0.9160\n",
            "Epoch 59/100\n",
            "375/375 [==============================] - 6s 15ms/step - loss: 0.2563 - accuracy: 0.9046 - val_loss: 0.2273 - val_accuracy: 0.9170\n",
            "Epoch 60/100\n",
            "375/375 [==============================] - 5s 14ms/step - loss: 0.2553 - accuracy: 0.9052 - val_loss: 0.2256 - val_accuracy: 0.9187\n",
            "Epoch 61/100\n",
            "375/375 [==============================] - 5s 14ms/step - loss: 0.2514 - accuracy: 0.9054 - val_loss: 0.2314 - val_accuracy: 0.9137\n",
            "Epoch 62/100\n",
            "375/375 [==============================] - 5s 14ms/step - loss: 0.2543 - accuracy: 0.9044 - val_loss: 0.2362 - val_accuracy: 0.9153\n",
            "Epoch 63/100\n",
            "375/375 [==============================] - 5s 15ms/step - loss: 0.2537 - accuracy: 0.9053 - val_loss: 0.2290 - val_accuracy: 0.9159\n",
            "Epoch 64/100\n",
            "375/375 [==============================] - 5s 15ms/step - loss: 0.2520 - accuracy: 0.9077 - val_loss: 0.2361 - val_accuracy: 0.9153\n",
            "Epoch 65/100\n",
            "375/375 [==============================] - 5s 15ms/step - loss: 0.2514 - accuracy: 0.9057 - val_loss: 0.2282 - val_accuracy: 0.9144\n",
            "Epoch 66/100\n",
            "375/375 [==============================] - 6s 15ms/step - loss: 0.2486 - accuracy: 0.9070 - val_loss: 0.2279 - val_accuracy: 0.9161\n",
            "Epoch 67/100\n",
            "375/375 [==============================] - 6s 15ms/step - loss: 0.2510 - accuracy: 0.9062 - val_loss: 0.2232 - val_accuracy: 0.9199\n",
            "Epoch 68/100\n",
            "375/375 [==============================] - 6s 15ms/step - loss: 0.2503 - accuracy: 0.9065 - val_loss: 0.2227 - val_accuracy: 0.9178\n",
            "Epoch 69/100\n",
            "375/375 [==============================] - 6s 15ms/step - loss: 0.2491 - accuracy: 0.9072 - val_loss: 0.2285 - val_accuracy: 0.9139\n",
            "Epoch 70/100\n",
            "375/375 [==============================] - 6s 15ms/step - loss: 0.2444 - accuracy: 0.9085 - val_loss: 0.2279 - val_accuracy: 0.9170\n",
            "Epoch 71/100\n",
            "375/375 [==============================] - 6s 15ms/step - loss: 0.2432 - accuracy: 0.9105 - val_loss: 0.2332 - val_accuracy: 0.9147\n",
            "Epoch 72/100\n",
            "375/375 [==============================] - 6s 15ms/step - loss: 0.2458 - accuracy: 0.9080 - val_loss: 0.2297 - val_accuracy: 0.9172\n",
            "Epoch 73/100\n",
            "375/375 [==============================] - 6s 16ms/step - loss: 0.2412 - accuracy: 0.9090 - val_loss: 0.2293 - val_accuracy: 0.9144\n",
            "Epoch 74/100\n",
            "375/375 [==============================] - 6s 15ms/step - loss: 0.2448 - accuracy: 0.9080 - val_loss: 0.2209 - val_accuracy: 0.9192\n",
            "Epoch 75/100\n",
            "375/375 [==============================] - 6s 15ms/step - loss: 0.2432 - accuracy: 0.9094 - val_loss: 0.2282 - val_accuracy: 0.9164\n",
            "Epoch 76/100\n",
            "375/375 [==============================] - 6s 15ms/step - loss: 0.2414 - accuracy: 0.9102 - val_loss: 0.2243 - val_accuracy: 0.9167\n",
            "Epoch 77/100\n",
            "375/375 [==============================] - 6s 15ms/step - loss: 0.2399 - accuracy: 0.9115 - val_loss: 0.2239 - val_accuracy: 0.9168\n",
            "Epoch 78/100\n",
            "375/375 [==============================] - 6s 15ms/step - loss: 0.2433 - accuracy: 0.9094 - val_loss: 0.2152 - val_accuracy: 0.9225\n",
            "Epoch 79/100\n",
            "375/375 [==============================] - 6s 15ms/step - loss: 0.2442 - accuracy: 0.9100 - val_loss: 0.2363 - val_accuracy: 0.9132\n",
            "Epoch 80/100\n",
            "375/375 [==============================] - 6s 15ms/step - loss: 0.2380 - accuracy: 0.9109 - val_loss: 0.2302 - val_accuracy: 0.9141\n",
            "Epoch 81/100\n",
            "375/375 [==============================] - 6s 15ms/step - loss: 0.2425 - accuracy: 0.9106 - val_loss: 0.2324 - val_accuracy: 0.9137\n",
            "Epoch 82/100\n",
            "375/375 [==============================] - 6s 15ms/step - loss: 0.2394 - accuracy: 0.9109 - val_loss: 0.2374 - val_accuracy: 0.9103\n",
            "Epoch 83/100\n",
            "375/375 [==============================] - 6s 15ms/step - loss: 0.2444 - accuracy: 0.9084 - val_loss: 0.2343 - val_accuracy: 0.9139\n",
            "Epoch 84/100\n",
            "375/375 [==============================] - 6s 15ms/step - loss: 0.2395 - accuracy: 0.9117 - val_loss: 0.2280 - val_accuracy: 0.9178\n",
            "Epoch 85/100\n",
            "375/375 [==============================] - 6s 15ms/step - loss: 0.2430 - accuracy: 0.9098 - val_loss: 0.2304 - val_accuracy: 0.9171\n",
            "Epoch 86/100\n",
            "375/375 [==============================] - 6s 15ms/step - loss: 0.2367 - accuracy: 0.9121 - val_loss: 0.2443 - val_accuracy: 0.9118\n",
            "Epoch 87/100\n",
            "375/375 [==============================] - 6s 15ms/step - loss: 0.2401 - accuracy: 0.9113 - val_loss: 0.2255 - val_accuracy: 0.9196\n",
            "Epoch 88/100\n",
            "375/375 [==============================] - 6s 15ms/step - loss: 0.2401 - accuracy: 0.9104 - val_loss: 0.2293 - val_accuracy: 0.9167\n",
            "Epoch 89/100\n",
            "375/375 [==============================] - 6s 15ms/step - loss: 0.2337 - accuracy: 0.9122 - val_loss: 0.2267 - val_accuracy: 0.9183\n",
            "Epoch 90/100\n",
            "375/375 [==============================] - 6s 15ms/step - loss: 0.2359 - accuracy: 0.9126 - val_loss: 0.2265 - val_accuracy: 0.9186\n",
            "Epoch 91/100\n",
            "375/375 [==============================] - 6s 15ms/step - loss: 0.2405 - accuracy: 0.9117 - val_loss: 0.2283 - val_accuracy: 0.9157\n",
            "Epoch 92/100\n",
            "375/375 [==============================] - 6s 15ms/step - loss: 0.2357 - accuracy: 0.9134 - val_loss: 0.2361 - val_accuracy: 0.9120\n",
            "Epoch 93/100\n",
            "375/375 [==============================] - 6s 15ms/step - loss: 0.2372 - accuracy: 0.9128 - val_loss: 0.2239 - val_accuracy: 0.9185\n",
            "Epoch 94/100\n",
            "375/375 [==============================] - 6s 15ms/step - loss: 0.2354 - accuracy: 0.9136 - val_loss: 0.2336 - val_accuracy: 0.9158\n",
            "Epoch 95/100\n",
            "375/375 [==============================] - 6s 16ms/step - loss: 0.2362 - accuracy: 0.9102 - val_loss: 0.2239 - val_accuracy: 0.9203\n",
            "Epoch 96/100\n",
            "375/375 [==============================] - 6s 15ms/step - loss: 0.2310 - accuracy: 0.9135 - val_loss: 0.2237 - val_accuracy: 0.9170\n",
            "Epoch 97/100\n",
            "375/375 [==============================] - 6s 15ms/step - loss: 0.2326 - accuracy: 0.9131 - val_loss: 0.2236 - val_accuracy: 0.9193\n",
            "Epoch 98/100\n",
            "375/375 [==============================] - 6s 15ms/step - loss: 0.2373 - accuracy: 0.9119 - val_loss: 0.2246 - val_accuracy: 0.9188\n",
            "Epoch 99/100\n",
            "375/375 [==============================] - 6s 15ms/step - loss: 0.2313 - accuracy: 0.9139 - val_loss: 0.2207 - val_accuracy: 0.9187\n",
            "Epoch 100/100\n",
            "375/375 [==============================] - 6s 15ms/step - loss: 0.2268 - accuracy: 0.9164 - val_loss: 0.2235 - val_accuracy: 0.9203\n"
          ]
        },
        {
          "output_type": "execute_result",
          "data": {
            "text/plain": [
              "<keras.callbacks.History at 0x7f9ff3c1a710>"
            ]
          },
          "metadata": {},
          "execution_count": 25
        }
      ]
    },
    {
      "cell_type": "markdown",
      "source": [
        "## Evaluation"
      ],
      "metadata": {
        "id": "V-Pq9Kc2NgrD"
      }
    },
    {
      "cell_type": "code",
      "source": [
        "plt.plot(history.history['loss'], label='loss')\n",
        "plt.plot(history.history['val_loss'], label='val_loss')\n",
        "plt.legend()\n",
        "plt.show()\n",
        "plt.close()\n",
        "\n",
        "plt.plot(history.history['accuracy'], label='accuracy')\n",
        "plt.plot(history.history['val_accuracy'], label='val_accuracy')\n",
        "plt.legend()\n",
        "plt.show()\n",
        "plt.close()"
      ],
      "metadata": {
        "colab": {
          "base_uri": "https://localhost:8080/",
          "height": 515
        },
        "id": "J15xpSXIfXzJ",
        "outputId": "4ac947af-ed83-4056-b7c8-b6de2122eb72"
      },
      "execution_count": 32,
      "outputs": [
        {
          "output_type": "display_data",
          "data": {
            "image/png": "[encoded data removed]",
            "text/plain": [
              "<Figure size 432x288 with 1 Axes>"
            ]
          },
          "metadata": {
            "needs_background": "light"
          }
        },
        {
          "output_type": "display_data",
          "data": {
            "image/png": "[encoded data removed]",
            "text/plain": [
              "<Figure size 432x288 with 1 Axes>"
            ]
          },
          "metadata": {
            "needs_background": "light"
          }
        }
      ]
    }
  ]
}